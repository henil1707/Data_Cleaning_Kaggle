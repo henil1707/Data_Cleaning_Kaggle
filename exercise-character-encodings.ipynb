{
 "cells": [
  {
   "cell_type": "markdown",
   "id": "610c3856",
   "metadata": {
    "papermill": {
     "duration": 0.007268,
     "end_time": "2022-10-17T07:32:25.198091",
     "exception": false,
     "start_time": "2022-10-17T07:32:25.190823",
     "status": "completed"
    },
    "tags": []
   },
   "source": [
    "**This notebook is an exercise in the [Data Cleaning](https://www.kaggle.com/learn/data-cleaning) course.  You can reference the tutorial at [this link](https://www.kaggle.com/alexisbcook/character-encodings).**\n",
    "\n",
    "---\n"
   ]
  },
  {
   "cell_type": "markdown",
   "id": "2279271c",
   "metadata": {
    "papermill": {
     "duration": 0.004394,
     "end_time": "2022-10-17T07:32:25.208502",
     "exception": false,
     "start_time": "2022-10-17T07:32:25.204108",
     "status": "completed"
    },
    "tags": []
   },
   "source": [
    "In this exercise, you'll apply what you learned in the **Character encodings** tutorial.\n",
    "\n",
    "# Setup\n",
    "\n",
    "The questions below will give you feedback on your work. Run the following cell to set up the feedback system."
   ]
  },
  {
   "cell_type": "code",
   "execution_count": 1,
   "id": "5ef09b3f",
   "metadata": {
    "execution": {
     "iopub.execute_input": "2022-10-17T07:32:25.221048Z",
     "iopub.status.busy": "2022-10-17T07:32:25.220031Z",
     "iopub.status.idle": "2022-10-17T07:32:25.314034Z",
     "shell.execute_reply": "2022-10-17T07:32:25.312751Z"
    },
    "papermill": {
     "duration": 0.103387,
     "end_time": "2022-10-17T07:32:25.316462",
     "exception": false,
     "start_time": "2022-10-17T07:32:25.213075",
     "status": "completed"
    },
    "tags": []
   },
   "outputs": [
    {
     "name": "stdout",
     "output_type": "stream",
     "text": [
      "Setup Complete\n"
     ]
    }
   ],
   "source": [
    "from learntools.core import binder\n",
    "binder.bind(globals())\n",
    "from learntools.data_cleaning.ex4 import *\n",
    "print(\"Setup Complete\")"
   ]
  },
  {
   "cell_type": "markdown",
   "id": "a86b9f47",
   "metadata": {
    "papermill": {
     "duration": 0.004321,
     "end_time": "2022-10-17T07:32:25.325433",
     "exception": false,
     "start_time": "2022-10-17T07:32:25.321112",
     "status": "completed"
    },
    "tags": []
   },
   "source": [
    "# Get our environment set up\n",
    "\n",
    "The first thing we'll need to do is load in the libraries we'll be using."
   ]
  },
  {
   "cell_type": "code",
   "execution_count": 2,
   "id": "fbaa6cb0",
   "metadata": {
    "execution": {
     "iopub.execute_input": "2022-10-17T07:32:25.336459Z",
     "iopub.status.busy": "2022-10-17T07:32:25.335733Z",
     "iopub.status.idle": "2022-10-17T07:32:25.342648Z",
     "shell.execute_reply": "2022-10-17T07:32:25.341219Z"
    },
    "papermill": {
     "duration": 0.016415,
     "end_time": "2022-10-17T07:32:25.346436",
     "exception": false,
     "start_time": "2022-10-17T07:32:25.330021",
     "status": "completed"
    },
    "tags": []
   },
   "outputs": [],
   "source": [
    "# modules we'll use\n",
    "import pandas as pd\n",
    "import numpy as np\n",
    "\n",
    "# helpful character encoding module\n",
    "import chardet\n",
    "\n",
    "# set seed for reproducibility\n",
    "np.random.seed(0)"
   ]
  },
  {
   "cell_type": "markdown",
   "id": "0bc6910c",
   "metadata": {
    "papermill": {
     "duration": 0.005508,
     "end_time": "2022-10-17T07:32:25.359041",
     "exception": false,
     "start_time": "2022-10-17T07:32:25.353533",
     "status": "completed"
    },
    "tags": []
   },
   "source": [
    "# 1) What are encodings?\n",
    "\n",
    "You're working with a dataset composed of bytes.  Run the code cell below to print a sample entry."
   ]
  },
  {
   "cell_type": "code",
   "execution_count": 3,
   "id": "ba3bf099",
   "metadata": {
    "execution": {
     "iopub.execute_input": "2022-10-17T07:32:25.372073Z",
     "iopub.status.busy": "2022-10-17T07:32:25.371158Z",
     "iopub.status.idle": "2022-10-17T07:32:25.376584Z",
     "shell.execute_reply": "2022-10-17T07:32:25.375759Z"
    },
    "papermill": {
     "duration": 0.015089,
     "end_time": "2022-10-17T07:32:25.379184",
     "exception": false,
     "start_time": "2022-10-17T07:32:25.364095",
     "status": "completed"
    },
    "tags": []
   },
   "outputs": [
    {
     "name": "stdout",
     "output_type": "stream",
     "text": [
      "b'\\xa7A\\xa6n'\n",
      "data type: <class 'bytes'>\n"
     ]
    }
   ],
   "source": [
    "sample_entry = b'\\xa7A\\xa6n'\n",
    "print(sample_entry)\n",
    "print('data type:', type(sample_entry))"
   ]
  },
  {
   "cell_type": "markdown",
   "id": "22ddc377",
   "metadata": {
    "papermill": {
     "duration": 0.005606,
     "end_time": "2022-10-17T07:32:25.391003",
     "exception": false,
     "start_time": "2022-10-17T07:32:25.385397",
     "status": "completed"
    },
    "tags": []
   },
   "source": [
    "You notice that it doesn't use the standard UTF-8 encoding. \n",
    "\n",
    "Use the next code cell to create a variable `new_entry` that changes the encoding from `\"big5-tw\"` to `\"utf-8\"`.  `new_entry` should have the bytes datatype."
   ]
  },
  {
   "cell_type": "code",
   "execution_count": 4,
   "id": "1abd72fe",
   "metadata": {
    "execution": {
     "iopub.execute_input": "2022-10-17T07:32:25.404711Z",
     "iopub.status.busy": "2022-10-17T07:32:25.404304Z",
     "iopub.status.idle": "2022-10-17T07:32:25.416288Z",
     "shell.execute_reply": "2022-10-17T07:32:25.414920Z"
    },
    "papermill": {
     "duration": 0.02263,
     "end_time": "2022-10-17T07:32:25.419791",
     "exception": false,
     "start_time": "2022-10-17T07:32:25.397161",
     "status": "completed"
    },
    "tags": []
   },
   "outputs": [
    {
     "name": "stdout",
     "output_type": "stream",
     "text": [
      "你好\n",
      "b'\\xe4\\xbd\\xa0\\xe5\\xa5\\xbd'\n"
     ]
    },
    {
     "data": {
      "application/javascript": [
       "parent.postMessage({\"jupyterEvent\": \"custom.exercise_interaction\", \"data\": {\"outcomeType\": 1, \"valueTowardsCompletion\": 0.3333333333333333, \"interactionType\": 1, \"questionType\": 1, \"questionId\": \"1_EncodingsIntro\", \"learnToolsVersion\": \"0.3.4\", \"failureMessage\": \"\", \"exceptionClass\": \"\", \"trace\": \"\"}}, \"*\")"
      ],
      "text/plain": [
       "<IPython.core.display.Javascript object>"
      ]
     },
     "metadata": {},
     "output_type": "display_data"
    },
    {
     "data": {
      "text/markdown": [
       "<span style=\"color:#33cc33\">Correct</span>"
      ],
      "text/plain": [
       "Correct"
      ]
     },
     "metadata": {},
     "output_type": "display_data"
    }
   ],
   "source": [
    "before = sample_entry.decode(\"big5-tw\")\n",
    "print(before)\n",
    "new_entry = before.encode()\n",
    "print(new_entry)\n",
    "\n",
    "# Check your answer\n",
    "q1.check()"
   ]
  },
  {
   "cell_type": "code",
   "execution_count": 5,
   "id": "5d011090",
   "metadata": {
    "execution": {
     "iopub.execute_input": "2022-10-17T07:32:25.434429Z",
     "iopub.status.busy": "2022-10-17T07:32:25.434033Z",
     "iopub.status.idle": "2022-10-17T07:32:25.438257Z",
     "shell.execute_reply": "2022-10-17T07:32:25.437177Z"
    },
    "papermill": {
     "duration": 0.014607,
     "end_time": "2022-10-17T07:32:25.441032",
     "exception": false,
     "start_time": "2022-10-17T07:32:25.426425",
     "status": "completed"
    },
    "tags": []
   },
   "outputs": [],
   "source": [
    "# Lines below will give you a hint or solution code\n",
    "#q1.hint()\n",
    "#q1.solution()"
   ]
  },
  {
   "cell_type": "markdown",
   "id": "965d4012",
   "metadata": {
    "papermill": {
     "duration": 0.00683,
     "end_time": "2022-10-17T07:32:25.455245",
     "exception": false,
     "start_time": "2022-10-17T07:32:25.448415",
     "status": "completed"
    },
    "tags": []
   },
   "source": [
    "# 2) Reading in files with encoding problems\n",
    "\n",
    "Use the code cell below to read in this file at path `\"../input/fatal-police-shootings-in-the-us/PoliceKillingsUS.csv\"`.  \n",
    "\n",
    "Figure out what the correct encoding should be and read in the file to a DataFrame `police_killings`."
   ]
  },
  {
   "cell_type": "code",
   "execution_count": 6,
   "id": "c0dbac21",
   "metadata": {
    "execution": {
     "iopub.execute_input": "2022-10-17T07:32:25.469721Z",
     "iopub.status.busy": "2022-10-17T07:32:25.468991Z",
     "iopub.status.idle": "2022-10-17T07:32:25.495127Z",
     "shell.execute_reply": "2022-10-17T07:32:25.494289Z"
    },
    "papermill": {
     "duration": 0.035255,
     "end_time": "2022-10-17T07:32:25.497193",
     "exception": false,
     "start_time": "2022-10-17T07:32:25.461938",
     "status": "completed"
    },
    "tags": []
   },
   "outputs": [
    {
     "data": {
      "application/javascript": [
       "parent.postMessage({\"jupyterEvent\": \"custom.exercise_interaction\", \"data\": {\"outcomeType\": 1, \"valueTowardsCompletion\": 0.3333333333333333, \"interactionType\": 1, \"questionType\": 1, \"questionId\": \"2_ReadIn\", \"learnToolsVersion\": \"0.3.4\", \"failureMessage\": \"\", \"exceptionClass\": \"\", \"trace\": \"\"}}, \"*\")"
      ],
      "text/plain": [
       "<IPython.core.display.Javascript object>"
      ]
     },
     "metadata": {},
     "output_type": "display_data"
    },
    {
     "data": {
      "text/markdown": [
       "<span style=\"color:#33cc33\">Correct</span>"
      ],
      "text/plain": [
       "Correct"
      ]
     },
     "metadata": {},
     "output_type": "display_data"
    }
   ],
   "source": [
    "# TODO: Load in the DataFrame correctly.\n",
    "police_killings = pd.read_csv(\"../input/fatal-police-shootings-in-the-us/PoliceKillingsUS.csv\", encoding='Windows-1252')\n",
    "\n",
    "# Check your answer\n",
    "q2.check()"
   ]
  },
  {
   "cell_type": "markdown",
   "id": "4cd23261",
   "metadata": {
    "papermill": {
     "duration": 0.005052,
     "end_time": "2022-10-17T07:32:25.507856",
     "exception": false,
     "start_time": "2022-10-17T07:32:25.502804",
     "status": "completed"
    },
    "tags": []
   },
   "source": [
    "Feel free to use any additional code cells for supplemental work.  To get credit for finishing this question, you'll need to run `q2.check()` and get a result of **Correct**."
   ]
  },
  {
   "cell_type": "code",
   "execution_count": 7,
   "id": "586c8ad6",
   "metadata": {
    "execution": {
     "iopub.execute_input": "2022-10-17T07:32:25.521122Z",
     "iopub.status.busy": "2022-10-17T07:32:25.520391Z",
     "iopub.status.idle": "2022-10-17T07:32:25.524804Z",
     "shell.execute_reply": "2022-10-17T07:32:25.523993Z"
    },
    "papermill": {
     "duration": 0.014065,
     "end_time": "2022-10-17T07:32:25.527216",
     "exception": false,
     "start_time": "2022-10-17T07:32:25.513151",
     "status": "completed"
    },
    "tags": []
   },
   "outputs": [],
   "source": [
    "# (Optional) Use this code cell for any additional work."
   ]
  },
  {
   "cell_type": "code",
   "execution_count": 8,
   "id": "ddbf280d",
   "metadata": {
    "execution": {
     "iopub.execute_input": "2022-10-17T07:32:25.544227Z",
     "iopub.status.busy": "2022-10-17T07:32:25.543263Z",
     "iopub.status.idle": "2022-10-17T07:32:25.548320Z",
     "shell.execute_reply": "2022-10-17T07:32:25.547212Z"
    },
    "papermill": {
     "duration": 0.017792,
     "end_time": "2022-10-17T07:32:25.550772",
     "exception": false,
     "start_time": "2022-10-17T07:32:25.532980",
     "status": "completed"
    },
    "tags": []
   },
   "outputs": [],
   "source": [
    "# Lines below will give you a hint or solution code\n",
    "#q2.hint()\n",
    "#q2.solution()"
   ]
  },
  {
   "cell_type": "markdown",
   "id": "efd2ca89",
   "metadata": {
    "papermill": {
     "duration": 0.006437,
     "end_time": "2022-10-17T07:32:25.563690",
     "exception": false,
     "start_time": "2022-10-17T07:32:25.557253",
     "status": "completed"
    },
    "tags": []
   },
   "source": [
    "# 3) Saving your files with UTF-8 encoding\n",
    "\n",
    "Save a version of the police killings dataset to CSV with UTF-8 encoding.  Your answer will be marked correct after saving this file.  \n",
    "\n",
    "Note: When using the `to_csv()` method, supply only the name of the file (e.g., `\"my_file.csv\"`).  This saves the file at the filepath `\"/kaggle/working/my_file.csv\"`."
   ]
  },
  {
   "cell_type": "code",
   "execution_count": 9,
   "id": "84f72186",
   "metadata": {
    "execution": {
     "iopub.execute_input": "2022-10-17T07:32:25.580472Z",
     "iopub.status.busy": "2022-10-17T07:32:25.579612Z",
     "iopub.status.idle": "2022-10-17T07:32:25.618089Z",
     "shell.execute_reply": "2022-10-17T07:32:25.616755Z"
    },
    "papermill": {
     "duration": 0.049126,
     "end_time": "2022-10-17T07:32:25.620977",
     "exception": false,
     "start_time": "2022-10-17T07:32:25.571851",
     "status": "completed"
    },
    "tags": []
   },
   "outputs": [
    {
     "data": {
      "application/javascript": [
       "parent.postMessage({\"jupyterEvent\": \"custom.exercise_interaction\", \"data\": {\"outcomeType\": 1, \"valueTowardsCompletion\": 0.3333333333333333, \"interactionType\": 1, \"questionType\": 2, \"questionId\": \"3_SaveCSV\", \"learnToolsVersion\": \"0.3.4\", \"failureMessage\": \"\", \"exceptionClass\": \"\", \"trace\": \"\"}}, \"*\")"
      ],
      "text/plain": [
       "<IPython.core.display.Javascript object>"
      ]
     },
     "metadata": {},
     "output_type": "display_data"
    },
    {
     "data": {
      "text/markdown": [
       "<span style=\"color:#33cc33\">Correct</span>"
      ],
      "text/plain": [
       "Correct"
      ]
     },
     "metadata": {},
     "output_type": "display_data"
    }
   ],
   "source": [
    "# TODO: Save the police killings dataset to CSV\n",
    "police_killings.to_csv(\"my_file.csv\")\n",
    "\n",
    "# Check your answer\n",
    "q3.check()"
   ]
  },
  {
   "cell_type": "code",
   "execution_count": 10,
   "id": "55b8da98",
   "metadata": {
    "execution": {
     "iopub.execute_input": "2022-10-17T07:32:25.634962Z",
     "iopub.status.busy": "2022-10-17T07:32:25.634174Z",
     "iopub.status.idle": "2022-10-17T07:32:25.638746Z",
     "shell.execute_reply": "2022-10-17T07:32:25.637863Z"
    },
    "papermill": {
     "duration": 0.01398,
     "end_time": "2022-10-17T07:32:25.640885",
     "exception": false,
     "start_time": "2022-10-17T07:32:25.626905",
     "status": "completed"
    },
    "tags": []
   },
   "outputs": [],
   "source": [
    "# Lines below will give you a hint or solution code\n",
    "#q3.hint()\n",
    "#q3.solution()"
   ]
  },
  {
   "cell_type": "markdown",
   "id": "8e79847f",
   "metadata": {
    "papermill": {
     "duration": 0.005286,
     "end_time": "2022-10-17T07:32:25.651895",
     "exception": false,
     "start_time": "2022-10-17T07:32:25.646609",
     "status": "completed"
    },
    "tags": []
   },
   "source": [
    "# (Optional) More practice\n",
    "\n",
    "Check out [this dataset of files in different character encodings](https://www.kaggle.com/rtatman/character-encoding-examples). Can you read in all the files with their original encodings and them save them out as UTF-8 files?\n",
    "\n",
    "If you have a file that's in UTF-8 but has just a couple of weird-looking characters in it, you can try out the [ftfy module](https://ftfy.readthedocs.io/en/latest/#) and see if it helps. \n",
    "\n",
    "# Keep going\n",
    "\n",
    "In the final lesson, learn how to [**clean up inconsistent text entries**](https://www.kaggle.com/alexisbcook/inconsistent-data-entry) in your dataset."
   ]
  },
  {
   "cell_type": "markdown",
   "id": "f925c1f1",
   "metadata": {
    "papermill": {
     "duration": 0.005186,
     "end_time": "2022-10-17T07:32:25.662598",
     "exception": false,
     "start_time": "2022-10-17T07:32:25.657412",
     "status": "completed"
    },
    "tags": []
   },
   "source": [
    "---\n",
    "\n",
    "\n",
    "\n",
    "\n",
    "*Have questions or comments? Visit the [course discussion forum](https://www.kaggle.com/learn/data-cleaning/discussion) to chat with other learners.*"
   ]
  }
 ],
 "metadata": {
  "kernelspec": {
   "display_name": "Python 3",
   "language": "python",
   "name": "python3"
  },
  "language_info": {
   "codemirror_mode": {
    "name": "ipython",
    "version": 3
   },
   "file_extension": ".py",
   "mimetype": "text/x-python",
   "name": "python",
   "nbconvert_exporter": "python",
   "pygments_lexer": "ipython3",
   "version": "3.7.12"
  },
  "papermill": {
   "default_parameters": {},
   "duration": 9.897749,
   "end_time": "2022-10-17T07:32:26.289886",
   "environment_variables": {},
   "exception": null,
   "input_path": "__notebook__.ipynb",
   "output_path": "__notebook__.ipynb",
   "parameters": {},
   "start_time": "2022-10-17T07:32:16.392137",
   "version": "2.3.4"
  }
 },
 "nbformat": 4,
 "nbformat_minor": 5
}
